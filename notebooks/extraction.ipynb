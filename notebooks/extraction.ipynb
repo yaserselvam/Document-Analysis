{
 "cells": [
  {
   "cell_type": "code",
   "execution_count": 3,
   "id": "c7476c13-ff2e-43b7-9d93-ebefd516213f",
   "metadata": {},
   "outputs": [
    {
     "name": "stdout",
     "output_type": "stream",
     "text": [
      "Text extracted and saved to extracted_text.txt\n"
     ]
    }
   ],
   "source": [
    "import pdfplumber\n",
    "\n",
    "pdf_path = \"../content/google_terms_of_service_en_in.pdf\"\n",
    "\n",
    "output_text_file = \"extracted_text.txt\"\n",
    "\n",
    "with pdfplumber.open(pdf_path) as pdf:\n",
    "    extracted_text = \"\"\n",
    "    for page in pdf.pages:\n",
    "        extracted_text += page.extract_text()\n",
    "\n",
    "with open(output_text_file, \"w\") as text_file:\n",
    "    text_file.write(extracted_text)\n",
    "\n",
    "print(f\"Text extracted and saved to {output_text_file}\")"
   ]
  },
  {
   "cell_type": "code",
   "execution_count": 8,
   "id": "f3e8a319-432f-4cd5-bf38-22a029efaba8",
   "metadata": {},
   "outputs": [
    {
     "name": "stdout",
     "output_type": "stream",
     "text": [
      "GOOGLE TERMS OF SERVICE\n",
      "Effective May 22, 2024 | Archived versions\n",
      "What’s covered in these terms\n",
      "We know it’s tempting to skip these Terms of\n",
      "Service, but it’s important to establish what you\n",
      "can expect from us as you use Google services,\n",
      "and what we expect from you.\n",
      "These Terms of Service re\u0000ect the way Google’s business works, the laws that apply to\n",
      "our company, and certain things we’ve always believed to be true. As a result, these Terms\n",
      "of Service help de\u0000ne Google’s relationship with you as\n",
      "Stored 'document_text' (str)\n"
     ]
    }
   ],
   "source": [
    "# reading pdf content\n",
    "with open(\"../content/extracted_text.txt\", \"r\") as file:\n",
    "    document_text = file.read()\n",
    "\n",
    "# preview the document content\n",
    "print(document_text[:500])  # preview the first 500 characters\n",
    "%store document_text"
   ]
  }
 ],
 "metadata": {
  "kernelspec": {
   "display_name": "Python 3 (ipykernel)",
   "language": "python",
   "name": "python3"
  },
  "language_info": {
   "codemirror_mode": {
    "name": "ipython",
    "version": 3
   },
   "file_extension": ".py",
   "mimetype": "text/x-python",
   "name": "python",
   "nbconvert_exporter": "python",
   "pygments_lexer": "ipython3",
   "version": "3.11.1"
  }
 },
 "nbformat": 4,
 "nbformat_minor": 5
}
